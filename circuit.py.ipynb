{
 "cells": [
  {
   "cell_type": "code",
   "execution_count": null,
   "metadata": {},
   "outputs": [],
   "source": [
    "from sympy.physics.quantum import TensorProduct as tensor\n",
    "from pennylane import numpy as np\n",
    "import pennylane as qml\n",
    "from sklearn.preprocessing import normalize\n",
    "import torch\n",
    "\n",
    "dev_qubit = qml.device('default.qubit', wires=6)\n",
    "# Hadamard classifier circuit for 4 data points with 1 new input to be classified and any arbitray featuremap\n",
    "@qml.qnode(dev_qubit, interface='torch')\n",
    "def circuit(phi0, Xdata=None, Y=None):\n",
    "    X1 = Xdata[0:, 0]\n",
    "    X2 = Xdata[0:, 1]\n",
    "    for i in range(2):\n",
    "        qml.Hadamard(wires=i)\n",
    "\n",
    "    qml.PauliX(wires=[0,1])\n",
    "    qml.Toffoli(wires=[0,1,5])\n",
    "    featuremap(X1[0], X2[0], Y[0], phi0)\n",
    "    qml.Toffoli(wires=[0,1,5])\n",
    "    qml.PauliX(wires=[0,1])\n",
    "\n",
    "    qml.PauliX(wires = 0)\n",
    "    qml.Toffoli(wires=[0,1,5])\n",
    "    featuremap(X1[1], X2[1], Y[1], phi0)\n",
    "    qml.Toffoli(wires=[0,1,5])\n",
    "    qml.PauliX(wires = 0)\n",
    "\n",
    "    qml.PauliX(wires = 1)\n",
    "    qml.Toffoli(wires=[0,1,5])\n",
    "    featuremap(X1[2], X2[2], Y[2], phi0)\n",
    "    qml.Toffoli(wires=[0,1,5])\n",
    "    qml.PauliX(wires = 1)\n",
    "\n",
    "    qml.Toffoli(wires=[0,1,5])\n",
    "    featuremap(X1[3], X2[3], Y[3], phi0)\n",
    "    qml.Toffoli(wires=[0,1,5])\n",
    "\n",
    "    qml.Hadamard(wires=0)\n",
    "\n",
    "    return qml.expval.Hermitian(np.array([[1, 0], [0, 0]]), wires=0), qml.expval.PauliZ(wires=4)"
   ]
  }
 ],
 "metadata": {
  "kernelspec": {
   "display_name": "Python 3",
   "language": "python",
   "name": "python3"
  },
  "language_info": {
   "codemirror_mode": {
    "name": "ipython",
    "version": 3
   },
   "file_extension": ".py",
   "mimetype": "text/x-python",
   "name": "python",
   "nbconvert_exporter": "python",
   "pygments_lexer": "ipython3",
   "version": "3.6.5"
  }
 },
 "nbformat": 4,
 "nbformat_minor": 2
}
