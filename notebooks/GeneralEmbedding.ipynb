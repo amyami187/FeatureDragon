{
 "cells": [
  {
   "cell_type": "code",
   "execution_count": 48,
   "metadata": {},
   "outputs": [
    {
     "name": "stdout",
     "output_type": "stream",
     "text": [
      "Requirement already satisfied: pennylane in /anaconda3/lib/python3.7/site-packages (0.7.0)\n",
      "Requirement already satisfied: toml in /anaconda3/lib/python3.7/site-packages (from pennylane) (0.10.0)\n",
      "Requirement already satisfied: numpy in /anaconda3/lib/python3.7/site-packages (from pennylane) (1.16.4)\n",
      "Requirement already satisfied: semantic-version==2.6 in /anaconda3/lib/python3.7/site-packages (from pennylane) (2.6.0)\n",
      "Requirement already satisfied: autograd in /anaconda3/lib/python3.7/site-packages (from pennylane) (1.3)\n",
      "Requirement already satisfied: appdirs in /anaconda3/lib/python3.7/site-packages (from pennylane) (1.4.3)\n",
      "Requirement already satisfied: networkx in /anaconda3/lib/python3.7/site-packages (from pennylane) (2.3)\n",
      "Requirement already satisfied: scipy in /anaconda3/lib/python3.7/site-packages (from pennylane) (1.2.1)\n",
      "Requirement already satisfied: future>=0.15.2 in /anaconda3/lib/python3.7/site-packages (from autograd->pennylane) (0.17.1)\n",
      "Requirement already satisfied: decorator>=4.3.0 in /anaconda3/lib/python3.7/site-packages (from networkx->pennylane) (4.4.0)\n",
      "Note: you may need to restart the kernel to use updated packages.\n"
     ]
    }
   ],
   "source": [
    "pip install pennylane"
   ]
  },
  {
   "cell_type": "code",
   "execution_count": null,
   "metadata": {},
   "outputs": [],
   "source": [
    "#this notebook is a work in progress and is a template based on the FeatureDragon  "
   ]
  },
  {
   "cell_type": "code",
   "execution_count": 69,
   "metadata": {},
   "outputs": [],
   "source": [
    "import numpy as np\n",
    "import math\n",
    "from pennylane.templates.utils import ( _check_no_variable, _check_wires, _check_type)\n",
    "from pennylane.variable import Variable"
   ]
  },
  {
   "cell_type": "code",
   "execution_count": 72,
   "metadata": {},
   "outputs": [
    {
     "data": {
      "text/plain": [
       "'\\nEncodes: 2 new features into the FeatureDragon circuit and 1 old feature twice into 4 qubits. \\n     \\nCurrently the general dataset to be embedded is limited to 2 features, if features inputed are more than 2 the circuit will not run. \\nTo enable more feature embedding accessibility more work needs to be done on the FeatureDragon circuit to run on more than batch 2 feature points.\\n     \\n    Args: \\n        features(array):input array of datapoint \\n        n_feature_qubits(int): qubit indices on which feature point is mapped to \\n        normalize(Boolean): normalizes datapoints between 0 and 2pi \\n    Raises:\\n        ValueError: if inputs do not have the correct format\\n\\n'"
      ]
     },
     "execution_count": 72,
     "metadata": {},
     "output_type": "execute_result"
    }
   ],
   "source": [
    "\"\"\"\n",
    "Encodes: 2 new features into the FeatureDragon circuit and 1 old feature twice into 4 qubits. \n",
    "     \n",
    "Currently the general dataset to be embedded is limited to 2 features, if features inputed are more than 2 the circuit will not run. \n",
    "To enable more feature embedding accessibility more work needs to be done on the FeatureDragon circuit to run on more than batch 2 feature points.\n",
    "     \n",
    "    Args: \n",
    "        features(array):input array of datapoint \n",
    "        n_feature_qubits(int): qubit indices on which feature point is mapped to \n",
    "        normalize(Boolean): normalizes datapoints between 0 and 2pi \n",
    "    Raises:\n",
    "        ValueError: if inputs do not have the correct format\n",
    "\n",
    "\"\"\""
   ]
  },
  {
   "cell_type": "code",
   "execution_count": 73,
   "metadata": {},
   "outputs": [],
   "source": [
    "def GeneralEmbedding(features, n_feature_qubits, normalize=False):\n",
    "\n",
    "    _check_no_variable([normalize], ['normalize'])\n",
    "    \n",
    "    wires, n_wires = _check_wires(wires)\n",
    "    \n",
    "    _check_type(normalize, [bool])\n",
    "    \n",
    "    QubitStateVector(features, wires=wires)\n"
   ]
  },
  {
   "cell_type": "code",
   "execution_count": 74,
   "metadata": {},
   "outputs": [],
   "source": [
    "#normalization function, needs to be added to pennylane templates/utils.py \n",
    "def _check_angle_normalize(inpt_list,msg=None):\n",
    "    if msg is None:\n",
    "        msg = \"Angles must be normalised between 0 and 2*Pi. \\n You can normalise your data by calling utils/normlize(data)\"\n",
    "\n",
    "    for angle in inpt_list:\n",
    "        if angle >=0 and angle<=2*math.pi:\n",
    "             pass\n",
    "        else:\n",
    "            raise ValueError(msg)\n",
    "            "
   ]
  },
  {
   "cell_type": "code",
   "execution_count": 75,
   "metadata": {},
   "outputs": [],
   "source": [
    "#normalize the input data\n",
    "def normalize(data):\n",
    "    data_min,data_max = min(data),max(data)\n",
    "    denom =  (2*math.pi)/(data_max-data_min)\n",
    "    return [ (x - data_min )*denom  for x in data]"
   ]
  }
 ],
 "metadata": {
  "kernelspec": {
   "display_name": "Python 3",
   "language": "python",
   "name": "python3"
  },
  "language_info": {
   "codemirror_mode": {
    "name": "ipython",
    "version": 3
   },
   "file_extension": ".py",
   "mimetype": "text/x-python",
   "name": "python",
   "nbconvert_exporter": "python",
   "pygments_lexer": "ipython3",
   "version": "3.7.3"
  }
 },
 "nbformat": 4,
 "nbformat_minor": 2
}
