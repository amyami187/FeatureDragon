{
 "cells": [
  {
   "cell_type": "code",
   "execution_count": 1,
   "metadata": {},
   "outputs": [],
   "source": [
    "import os,sys\n",
    "currentdir = os.getcwd()\n",
    "parentdir = os.path.dirname(currentdir)\n",
    "sys.path.insert(0,parentdir)"
   ]
  },
  {
   "cell_type": "code",
   "execution_count": 2,
   "metadata": {},
   "outputs": [],
   "source": [
    "import pennylane as qml\n",
    "import torch\n",
    "import numpy as np"
   ]
  },
  {
   "cell_type": "code",
   "execution_count": 3,
   "metadata": {},
   "outputs": [],
   "source": [
    "import builtins\n",
    "import time"
   ]
  },
  {
   "cell_type": "code",
   "execution_count": 4,
   "metadata": {},
   "outputs": [],
   "source": [
    "#builtins.dev_qubit  = qml.device('qiskit.aer', wires=6,shots=200)\n",
    "builtins.dev_qubit  = qml.device('qiskit.aer', wires=6)"
   ]
  },
  {
   "cell_type": "code",
   "execution_count": 5,
   "metadata": {},
   "outputs": [],
   "source": [
    "from modules.QCircuitNet import QCircuitNet"
   ]
  },
  {
   "cell_type": "code",
   "execution_count": 6,
   "metadata": {},
   "outputs": [
    {
     "name": "stdout",
     "output_type": "stream",
     "text": [
      "Parameter containing:\n",
      "tensor([0.0689, 0.0095], requires_grad=True)\n"
     ]
    }
   ],
   "source": [
    "model=QCircuitNet()"
   ]
  },
  {
   "cell_type": "code",
   "execution_count": 7,
   "metadata": {},
   "outputs": [],
   "source": [
    "from utils.data_handling import simple_np_ds"
   ]
  },
  {
   "cell_type": "code",
   "execution_count": 8,
   "metadata": {},
   "outputs": [],
   "source": [
    "dset=simple_np_ds(\"../data/moons.npz\",val_split=0.2,test_split=0.2)"
   ]
  },
  {
   "cell_type": "code",
   "execution_count": 9,
   "metadata": {},
   "outputs": [],
   "source": [
    "class CONFIG:\n",
    "    pass\n",
    "config=CONFIG()\n",
    "config.batch_size_test = 1\n",
    "config.batch_size_train = 2\n",
    "config.batch_size_val = 1\n",
    "config.num_val_samples=20\n",
    "config.num_train_ensembles=8\n",
    "config.lr=0.05\n",
    "config.device = 'cpu'\n",
    "config.num_workers_train=3\n",
    "config.num_workers_val=2\n",
    "config.num_workers_test=2\n",
    "config.dump_path = '../model_state_dumps'"
   ]
  },
  {
   "cell_type": "code",
   "execution_count": 10,
   "metadata": {},
   "outputs": [],
   "source": [
    "from modules.engine import Engine"
   ]
  },
  {
   "cell_type": "code",
   "execution_count": 11,
   "metadata": {},
   "outputs": [
    {
     "name": "stdout",
     "output_type": "stream",
     "text": [
      "Sticking to CPU\n",
      "Creating a directory for run dump: ../model_state_dumps/20191126_061000/\n"
     ]
    }
   ],
   "source": [
    "engine=Engine(model,dset,config)"
   ]
  },
  {
   "cell_type": "code",
   "execution_count": null,
   "metadata": {},
   "outputs": [
    {
     "name": "stdout",
     "output_type": "stream",
     "text": [
      "Epoch 0 Starting @ 2019-11-26 06:10:00\n",
      "... Iteration 0 ... Epoch 0.00 ... Validation Loss 2.176\n",
      "Saved checkpoint as: ../model_state_dumps/20191126_061000/QCircuitNet.pth\n",
      "best validation loss so far!: 2.176201919466257\n",
      "Saved checkpoint as: ../model_state_dumps/20191126_061000/QCircuitNetBEST.pth\n",
      "... Iteration 1 ... Epoch 0.01 ... Loss 4.000\n",
      "... Iteration 2 ... Epoch 0.01 ... Loss 1.954\n",
      "... Iteration 3 ... Epoch 0.01 ... Loss 4.000\n",
      "... Iteration 4 ... Epoch 0.02 ... Loss 0.964\n",
      "... Iteration 5 ... Epoch 0.03 ... Loss 1.888\n",
      "... Iteration 6 ... Epoch 0.03 ... Loss 1.835\n",
      "... Iteration 7 ... Epoch 0.04 ... Loss 4.000\n",
      "... Iteration 8 ... Epoch 0.04 ... Loss 0.982\n",
      "... Iteration 9 ... Epoch 0.04 ... Loss 1.901\n",
      "... Iteration 10 ... Epoch 0.05 ... Loss 0.996\n",
      "... Iteration 11 ... Epoch 0.05 ... Loss 1.994\n",
      "... Iteration 12 ... Epoch 0.06 ... Loss 1.969\n",
      "... Iteration 13 ... Epoch 0.06 ... Loss 0.988\n",
      "... Iteration 14 ... Epoch 0.07 ... Loss 1.018\n",
      "... Iteration 15 ... Epoch 0.07 ... Loss 1.893\n",
      "... Iteration 16 ... Epoch 0.08 ... Loss 1.941\n",
      "... Iteration 17 ... Epoch 0.09 ... Loss 0.987\n",
      "... Iteration 18 ... Epoch 0.09 ... Loss 1.050\n",
      "... Iteration 19 ... Epoch 0.10 ... Loss 0.964\n",
      "... Iteration 20 ... Epoch 0.10 ... Loss 1.032\n",
      "... Iteration 21 ... Epoch 0.11 ... Loss 4.000\n",
      "... Iteration 22 ... Epoch 0.11 ... Loss 4.000\n",
      "... Iteration 23 ... Epoch 0.12 ... Loss 1.008\n",
      "... Iteration 24 ... Epoch 0.12 ... Loss 1.782\n",
      "... Iteration 25 ... Epoch 0.13 ... Loss 4.000\n",
      "... Iteration 26 ... Epoch 0.13 ... Loss 1.905\n",
      "... Iteration 27 ... Epoch 0.14 ... Loss 1.926\n",
      "... Iteration 28 ... Epoch 0.14 ... Loss 1.949\n",
      "... Iteration 29 ... Epoch 0.15 ... Loss 1.852\n",
      "... Iteration 30 ... Epoch 0.15 ... Loss 4.000\n",
      "... Iteration 31 ... Epoch 0.16 ... Loss 1.938\n",
      "... Iteration 32 ... Epoch 0.16 ... Loss 4.000\n",
      "... Iteration 33 ... Epoch 0.17 ... Loss 1.909\n",
      "... Iteration 34 ... Epoch 0.17 ... Loss 1.815\n",
      "... Iteration 35 ... Epoch 0.18 ... Loss 0.947\n",
      "... Iteration 36 ... Epoch 0.18 ... Loss 0.986\n",
      "... Iteration 37 ... Epoch 0.19 ... Loss 4.000\n",
      "... Iteration 38 ... Epoch 0.19 ... Loss 4.000\n",
      "... Iteration 39 ... Epoch 0.20 ... Loss 4.000\n",
      "... Iteration 40 ... Epoch 0.20 ... Loss 1.829\n",
      "... Iteration 41 ... Epoch 0.21 ... Loss 1.821\n",
      "... Iteration 42 ... Epoch 0.21 ... Loss 1.952\n",
      "... Iteration 43 ... Epoch 0.22 ... Loss 1.945\n",
      "... Iteration 44 ... Epoch 0.22 ... Loss 1.026\n",
      "... Iteration 45 ... Epoch 0.23 ... Loss 4.000\n",
      "... Iteration 46 ... Epoch 0.23 ... Loss 2.001\n",
      "... Iteration 47 ... Epoch 0.24 ... Loss 1.872\n",
      "... Iteration 48 ... Epoch 0.24 ... Loss 1.008\n",
      "... Iteration 49 ... Epoch 0.25 ... Loss 1.851\n",
      "... Iteration 50 ... Epoch 0.25 ... Loss 1.993\n"
     ]
    }
   ],
   "source": [
    "%%time\n",
    "engine.train(epochs=6,report_interval=1,valid_interval=50)"
   ]
  },
  {
   "cell_type": "code",
   "execution_count": null,
   "metadata": {},
   "outputs": [],
   "source": []
  }
 ],
 "metadata": {
  "kernelspec": {
   "display_name": "Python 3",
   "language": "python",
   "name": "python3"
  },
  "language_info": {
   "codemirror_mode": {
    "name": "ipython",
    "version": 3
   },
   "file_extension": ".py",
   "mimetype": "text/x-python",
   "name": "python",
   "nbconvert_exporter": "python",
   "pygments_lexer": "ipython3",
   "version": "3.6.9"
  }
 },
 "nbformat": 4,
 "nbformat_minor": 2
}
